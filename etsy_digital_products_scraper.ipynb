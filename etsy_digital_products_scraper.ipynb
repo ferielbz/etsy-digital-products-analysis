{
  "nbformat": 4,
  "nbformat_minor": 0,
  "metadata": {
    "colab": {
      "provenance": []
    },
    "kernelspec": {
      "name": "python3",
      "display_name": "Python 3"
    },
    "language_info": {
      "name": "python"
    }
  },
  "cells": [
    {
      "cell_type": "code",
      "source": [
        "import pandas as pd\n",
        "\n",
        "# تحميل البيانات من CSV\n",
        "df = pd.read_csv(\"etsy_data.csv\")\n",
        "\n",
        "# عرض أول 5 صفوف للتأكد\n",
        "df.head()\n"
      ],
      "metadata": {
        "colab": {
          "base_uri": "https://localhost:8080/",
          "height": 206
        },
        "id": "2VDfWR3lwcsE",
        "outputId": "21f514f6-d9e8-4b2c-9e4b-71a3a57bfcc5"
      },
      "execution_count": null,
      "outputs": [
        {
          "output_type": "execute_result",
          "data": {
            "text/plain": [
              "                                               title  price  \\\n",
              "0  ADHD Digital Planner (made by an ADHDer) for i...  17.17   \n",
              "1  Digital Planner 2025 Customizable WHOLE SHOP B...  19.77   \n",
              "2  Ultimate Life Planner | ADHD Productivity Plan...   9.60   \n",
              "3  Digital Planner Undated, Minimalist Planner, I...   7.50   \n",
              "4  2025 2026 Premium Digital Planner, Undated Ult...   3.88   \n",
              "\n",
              "                                                 url  \n",
              "0  https://www.etsy.com/listing/1282376971/adhd-d...  \n",
              "1  https://www.etsy.com/listing/1602251608/digita...  \n",
              "2  https://www.etsy.com/listing/1886836083/ultima...  \n",
              "3  https://www.etsy.com/listing/4300760804/digita...  \n",
              "4  https://www.etsy.com/listing/1779854716/2025-2...  "
            ],
            "text/html": [
              "\n",
              "  <div id=\"df-501f5a6e-6605-42c6-b95d-7326dfb06865\" class=\"colab-df-container\">\n",
              "    <div>\n",
              "<style scoped>\n",
              "    .dataframe tbody tr th:only-of-type {\n",
              "        vertical-align: middle;\n",
              "    }\n",
              "\n",
              "    .dataframe tbody tr th {\n",
              "        vertical-align: top;\n",
              "    }\n",
              "\n",
              "    .dataframe thead th {\n",
              "        text-align: right;\n",
              "    }\n",
              "</style>\n",
              "<table border=\"1\" class=\"dataframe\">\n",
              "  <thead>\n",
              "    <tr style=\"text-align: right;\">\n",
              "      <th></th>\n",
              "      <th>title</th>\n",
              "      <th>price</th>\n",
              "      <th>url</th>\n",
              "    </tr>\n",
              "  </thead>\n",
              "  <tbody>\n",
              "    <tr>\n",
              "      <th>0</th>\n",
              "      <td>ADHD Digital Planner (made by an ADHDer) for i...</td>\n",
              "      <td>17.17</td>\n",
              "      <td>https://www.etsy.com/listing/1282376971/adhd-d...</td>\n",
              "    </tr>\n",
              "    <tr>\n",
              "      <th>1</th>\n",
              "      <td>Digital Planner 2025 Customizable WHOLE SHOP B...</td>\n",
              "      <td>19.77</td>\n",
              "      <td>https://www.etsy.com/listing/1602251608/digita...</td>\n",
              "    </tr>\n",
              "    <tr>\n",
              "      <th>2</th>\n",
              "      <td>Ultimate Life Planner | ADHD Productivity Plan...</td>\n",
              "      <td>9.60</td>\n",
              "      <td>https://www.etsy.com/listing/1886836083/ultima...</td>\n",
              "    </tr>\n",
              "    <tr>\n",
              "      <th>3</th>\n",
              "      <td>Digital Planner Undated, Minimalist Planner, I...</td>\n",
              "      <td>7.50</td>\n",
              "      <td>https://www.etsy.com/listing/4300760804/digita...</td>\n",
              "    </tr>\n",
              "    <tr>\n",
              "      <th>4</th>\n",
              "      <td>2025 2026 Premium Digital Planner, Undated Ult...</td>\n",
              "      <td>3.88</td>\n",
              "      <td>https://www.etsy.com/listing/1779854716/2025-2...</td>\n",
              "    </tr>\n",
              "  </tbody>\n",
              "</table>\n",
              "</div>\n",
              "    <div class=\"colab-df-buttons\">\n",
              "\n",
              "  <div class=\"colab-df-container\">\n",
              "    <button class=\"colab-df-convert\" onclick=\"convertToInteractive('df-501f5a6e-6605-42c6-b95d-7326dfb06865')\"\n",
              "            title=\"Convert this dataframe to an interactive table.\"\n",
              "            style=\"display:none;\">\n",
              "\n",
              "  <svg xmlns=\"http://www.w3.org/2000/svg\" height=\"24px\" viewBox=\"0 -960 960 960\">\n",
              "    <path d=\"M120-120v-720h720v720H120Zm60-500h600v-160H180v160Zm220 220h160v-160H400v160Zm0 220h160v-160H400v160ZM180-400h160v-160H180v160Zm440 0h160v-160H620v160ZM180-180h160v-160H180v160Zm440 0h160v-160H620v160Z\"/>\n",
              "  </svg>\n",
              "    </button>\n",
              "\n",
              "  <style>\n",
              "    .colab-df-container {\n",
              "      display:flex;\n",
              "      gap: 12px;\n",
              "    }\n",
              "\n",
              "    .colab-df-convert {\n",
              "      background-color: #E8F0FE;\n",
              "      border: none;\n",
              "      border-radius: 50%;\n",
              "      cursor: pointer;\n",
              "      display: none;\n",
              "      fill: #1967D2;\n",
              "      height: 32px;\n",
              "      padding: 0 0 0 0;\n",
              "      width: 32px;\n",
              "    }\n",
              "\n",
              "    .colab-df-convert:hover {\n",
              "      background-color: #E2EBFA;\n",
              "      box-shadow: 0px 1px 2px rgba(60, 64, 67, 0.3), 0px 1px 3px 1px rgba(60, 64, 67, 0.15);\n",
              "      fill: #174EA6;\n",
              "    }\n",
              "\n",
              "    .colab-df-buttons div {\n",
              "      margin-bottom: 4px;\n",
              "    }\n",
              "\n",
              "    [theme=dark] .colab-df-convert {\n",
              "      background-color: #3B4455;\n",
              "      fill: #D2E3FC;\n",
              "    }\n",
              "\n",
              "    [theme=dark] .colab-df-convert:hover {\n",
              "      background-color: #434B5C;\n",
              "      box-shadow: 0px 1px 3px 1px rgba(0, 0, 0, 0.15);\n",
              "      filter: drop-shadow(0px 1px 2px rgba(0, 0, 0, 0.3));\n",
              "      fill: #FFFFFF;\n",
              "    }\n",
              "  </style>\n",
              "\n",
              "    <script>\n",
              "      const buttonEl =\n",
              "        document.querySelector('#df-501f5a6e-6605-42c6-b95d-7326dfb06865 button.colab-df-convert');\n",
              "      buttonEl.style.display =\n",
              "        google.colab.kernel.accessAllowed ? 'block' : 'none';\n",
              "\n",
              "      async function convertToInteractive(key) {\n",
              "        const element = document.querySelector('#df-501f5a6e-6605-42c6-b95d-7326dfb06865');\n",
              "        const dataTable =\n",
              "          await google.colab.kernel.invokeFunction('convertToInteractive',\n",
              "                                                    [key], {});\n",
              "        if (!dataTable) return;\n",
              "\n",
              "        const docLinkHtml = 'Like what you see? Visit the ' +\n",
              "          '<a target=\"_blank\" href=https://colab.research.google.com/notebooks/data_table.ipynb>data table notebook</a>'\n",
              "          + ' to learn more about interactive tables.';\n",
              "        element.innerHTML = '';\n",
              "        dataTable['output_type'] = 'display_data';\n",
              "        await google.colab.output.renderOutput(dataTable, element);\n",
              "        const docLink = document.createElement('div');\n",
              "        docLink.innerHTML = docLinkHtml;\n",
              "        element.appendChild(docLink);\n",
              "      }\n",
              "    </script>\n",
              "  </div>\n",
              "\n",
              "\n",
              "    <div id=\"df-5f3bf60f-7333-4fb5-aaf5-ab6e8e11b44b\">\n",
              "      <button class=\"colab-df-quickchart\" onclick=\"quickchart('df-5f3bf60f-7333-4fb5-aaf5-ab6e8e11b44b')\"\n",
              "                title=\"Suggest charts\"\n",
              "                style=\"display:none;\">\n",
              "\n",
              "<svg xmlns=\"http://www.w3.org/2000/svg\" height=\"24px\"viewBox=\"0 0 24 24\"\n",
              "     width=\"24px\">\n",
              "    <g>\n",
              "        <path d=\"M19 3H5c-1.1 0-2 .9-2 2v14c0 1.1.9 2 2 2h14c1.1 0 2-.9 2-2V5c0-1.1-.9-2-2-2zM9 17H7v-7h2v7zm4 0h-2V7h2v10zm4 0h-2v-4h2v4z\"/>\n",
              "    </g>\n",
              "</svg>\n",
              "      </button>\n",
              "\n",
              "<style>\n",
              "  .colab-df-quickchart {\n",
              "      --bg-color: #E8F0FE;\n",
              "      --fill-color: #1967D2;\n",
              "      --hover-bg-color: #E2EBFA;\n",
              "      --hover-fill-color: #174EA6;\n",
              "      --disabled-fill-color: #AAA;\n",
              "      --disabled-bg-color: #DDD;\n",
              "  }\n",
              "\n",
              "  [theme=dark] .colab-df-quickchart {\n",
              "      --bg-color: #3B4455;\n",
              "      --fill-color: #D2E3FC;\n",
              "      --hover-bg-color: #434B5C;\n",
              "      --hover-fill-color: #FFFFFF;\n",
              "      --disabled-bg-color: #3B4455;\n",
              "      --disabled-fill-color: #666;\n",
              "  }\n",
              "\n",
              "  .colab-df-quickchart {\n",
              "    background-color: var(--bg-color);\n",
              "    border: none;\n",
              "    border-radius: 50%;\n",
              "    cursor: pointer;\n",
              "    display: none;\n",
              "    fill: var(--fill-color);\n",
              "    height: 32px;\n",
              "    padding: 0;\n",
              "    width: 32px;\n",
              "  }\n",
              "\n",
              "  .colab-df-quickchart:hover {\n",
              "    background-color: var(--hover-bg-color);\n",
              "    box-shadow: 0 1px 2px rgba(60, 64, 67, 0.3), 0 1px 3px 1px rgba(60, 64, 67, 0.15);\n",
              "    fill: var(--button-hover-fill-color);\n",
              "  }\n",
              "\n",
              "  .colab-df-quickchart-complete:disabled,\n",
              "  .colab-df-quickchart-complete:disabled:hover {\n",
              "    background-color: var(--disabled-bg-color);\n",
              "    fill: var(--disabled-fill-color);\n",
              "    box-shadow: none;\n",
              "  }\n",
              "\n",
              "  .colab-df-spinner {\n",
              "    border: 2px solid var(--fill-color);\n",
              "    border-color: transparent;\n",
              "    border-bottom-color: var(--fill-color);\n",
              "    animation:\n",
              "      spin 1s steps(1) infinite;\n",
              "  }\n",
              "\n",
              "  @keyframes spin {\n",
              "    0% {\n",
              "      border-color: transparent;\n",
              "      border-bottom-color: var(--fill-color);\n",
              "      border-left-color: var(--fill-color);\n",
              "    }\n",
              "    20% {\n",
              "      border-color: transparent;\n",
              "      border-left-color: var(--fill-color);\n",
              "      border-top-color: var(--fill-color);\n",
              "    }\n",
              "    30% {\n",
              "      border-color: transparent;\n",
              "      border-left-color: var(--fill-color);\n",
              "      border-top-color: var(--fill-color);\n",
              "      border-right-color: var(--fill-color);\n",
              "    }\n",
              "    40% {\n",
              "      border-color: transparent;\n",
              "      border-right-color: var(--fill-color);\n",
              "      border-top-color: var(--fill-color);\n",
              "    }\n",
              "    60% {\n",
              "      border-color: transparent;\n",
              "      border-right-color: var(--fill-color);\n",
              "    }\n",
              "    80% {\n",
              "      border-color: transparent;\n",
              "      border-right-color: var(--fill-color);\n",
              "      border-bottom-color: var(--fill-color);\n",
              "    }\n",
              "    90% {\n",
              "      border-color: transparent;\n",
              "      border-bottom-color: var(--fill-color);\n",
              "    }\n",
              "  }\n",
              "</style>\n",
              "\n",
              "      <script>\n",
              "        async function quickchart(key) {\n",
              "          const quickchartButtonEl =\n",
              "            document.querySelector('#' + key + ' button');\n",
              "          quickchartButtonEl.disabled = true;  // To prevent multiple clicks.\n",
              "          quickchartButtonEl.classList.add('colab-df-spinner');\n",
              "          try {\n",
              "            const charts = await google.colab.kernel.invokeFunction(\n",
              "                'suggestCharts', [key], {});\n",
              "          } catch (error) {\n",
              "            console.error('Error during call to suggestCharts:', error);\n",
              "          }\n",
              "          quickchartButtonEl.classList.remove('colab-df-spinner');\n",
              "          quickchartButtonEl.classList.add('colab-df-quickchart-complete');\n",
              "        }\n",
              "        (() => {\n",
              "          let quickchartButtonEl =\n",
              "            document.querySelector('#df-5f3bf60f-7333-4fb5-aaf5-ab6e8e11b44b button');\n",
              "          quickchartButtonEl.style.display =\n",
              "            google.colab.kernel.accessAllowed ? 'block' : 'none';\n",
              "        })();\n",
              "      </script>\n",
              "    </div>\n",
              "\n",
              "    </div>\n",
              "  </div>\n"
            ],
            "application/vnd.google.colaboratory.intrinsic+json": {
              "type": "dataframe",
              "variable_name": "df",
              "summary": "{\n  \"name\": \"df\",\n  \"rows\": 64,\n  \"fields\": [\n    {\n      \"column\": \"title\",\n      \"properties\": {\n        \"dtype\": \"string\",\n        \"num_unique_values\": 60,\n        \"samples\": [\n          \"ADHD Digital Planner (made by an ADHDer) for iPad, Goodnotes + Android. Adult ADHD daily planner, self care & habit tracker. Science based\",\n          \"2025 Digital Planner for Goodnotes, Notability, iPad & Tablet | Aesthetic Planner | Minimalist Modern Vertical | Dated | The Elegant Planner\",\n          \"Golden Dust Digital Planner\"\n        ],\n        \"semantic_type\": \"\",\n        \"description\": \"\"\n      }\n    },\n    {\n      \"column\": \"price\",\n      \"properties\": {\n        \"dtype\": \"number\",\n        \"std\": 7.976828432420858,\n        \"min\": 0.05,\n        \"max\": 35.14,\n        \"num_unique_values\": 55,\n        \"samples\": [\n          2.08,\n          0.99,\n          7.19\n        ],\n        \"semantic_type\": \"\",\n        \"description\": \"\"\n      }\n    },\n    {\n      \"column\": \"url\",\n      \"properties\": {\n        \"dtype\": \"string\",\n        \"num_unique_values\": 60,\n        \"samples\": [\n          \"https://www.etsy.com/listing/1282376971/adhd-digital-planner-made-by-an-adhder\",\n          \"https://www.etsy.com/listing/1587562177/2025-digital-planner-for-goodnotes\",\n          \"https://www.etsy.com/listing/1652874779/golden-dust-digital-planner\"\n        ],\n        \"semantic_type\": \"\",\n        \"description\": \"\"\n      }\n    }\n  ]\n}"
            }
          },
          "metadata": {},
          "execution_count": 31
        }
      ]
    },
    {
      "cell_type": "code",
      "source": [
        "# إزالة الصفوف التي تحتوي على قيم ناقصة\n",
        "df.dropna(inplace=True)\n",
        "\n",
        "# إزالة التكرارات\n",
        "df.drop_duplicates(inplace=True)\n",
        "\n",
        "# تحويل السعر إلى رقم (تأكد أن السعر لا يحتوي على رموز غير رقمية)\n",
        "df['price'] = pd.to_numeric(df['price'], errors='coerce')\n",
        "df.dropna(subset=['price'], inplace=True)\n"
      ],
      "metadata": {
        "id": "pYisFQnUwj_t"
      },
      "execution_count": null,
      "outputs": []
    },
    {
      "cell_type": "code",
      "source": [
        "print(\"عدد المنتجات:\", len(df))\n",
        "print(\"متوسط السعر:\", df['price'].mean())\n",
        "print(\"أعلى سعر:\", df['price'].max())\n",
        "print(\"أقل سعر:\", df['price'].min())\n"
      ],
      "metadata": {
        "colab": {
          "base_uri": "https://localhost:8080/"
        },
        "id": "NHH3dTjOwq1o",
        "outputId": "52587cc1-3546-4f78-8acf-e8a0cbaf57a7"
      },
      "execution_count": null,
      "outputs": [
        {
          "output_type": "stream",
          "name": "stdout",
          "text": [
            "عدد المنتجات: 60\n",
            "متوسط السعر: 8.633000000000001\n",
            "أعلى سعر: 35.14\n",
            "أقل سعر: 0.05\n"
          ]
        }
      ]
    },
    {
      "cell_type": "code",
      "source": [
        "import matplotlib.pyplot as plt\n",
        "\n",
        "plt.figure(figsize=(10, 6))\n",
        "plt.hist(df['price'], bins=20, color='skyblue', edgecolor='black')\n",
        "plt.title(\"Distribution of Product Prices on Etsy\")\n",
        "plt.xlabel(\"Price ($)\")\n",
        "plt.ylabel(\"Number of Products\")\n",
        "plt.grid(True)\n",
        "plt.show()\n"
      ],
      "metadata": {
        "colab": {
          "base_uri": "https://localhost:8080/",
          "height": 564
        },
        "id": "Qi13NdJvwyhs",
        "outputId": "379daedd-e8c2-4767-e5ea-687d61a38095"
      },
      "execution_count": null,
      "outputs": [
        {
          "output_type": "display_data",
          "data": {
            "text/plain": [
              "<Figure size 1000x600 with 1 Axes>"
            ],
            "image/png": "[encoded data removed]"
          },
          "metadata": {}
        }
      ]
    },
    {
      "cell_type": "code",
      "source": [
        "import re\n",
        "from collections import Counter\n"
      ],
      "metadata": {
        "id": "vPVyKvX6yDBs"
      },
      "execution_count": null,
      "outputs": []
    },
    {
      "cell_type": "code",
      "source": [
        "# تحويل جميع العناوين إلى lowercase\n",
        "titles = df['title'].dropna().str.lower()\n",
        "\n",
        "# استخراج الكلمات من العناوين\n",
        "all_words = []\n",
        "\n",
        "for title in titles:\n",
        "    words = re.findall(r'\\b[a-zA-Z0-9\\-]+\\b', title)  # استخراج الكلمات فقط\n",
        "    all_words.extend(words)\n",
        "\n",
        "print(\"عدد الكلمات الإجمالي:\", len(all_words))\n"
      ],
      "metadata": {
        "colab": {
          "base_uri": "https://localhost:8080/"
        },
        "id": "8gKHwJBZyITM",
        "outputId": "40c1a278-5aaa-47d1-9ba7-e53fe619ab72"
      },
      "execution_count": null,
      "outputs": [
        {
          "output_type": "stream",
          "name": "stdout",
          "text": [
            "عدد الكلمات الإجمالي: 1017\n"
          ]
        }
      ]
    },
    {
      "cell_type": "code",
      "source": [
        "stop_words = set([\n",
        "    'the', 'and', 'for', 'with', 'a', 'an', 'of', 'to', 'in', 'on', '2023', '2024', '2025', '2026', '2027',\n",
        "    'digital', 'planner', 'printable', 'pdf', 'instant', 'download', 'weekly', 'monthly'\n",
        "])\n",
        "\n",
        "filtered_words = [word for word in all_words if word not in stop_words and len(word) > 2]\n"
      ],
      "metadata": {
        "id": "WerJiw_XyLwu"
      },
      "execution_count": null,
      "outputs": []
    },
    {
      "cell_type": "code",
      "source": [
        "word_counts = Counter(filtered_words)\n",
        "common_words = word_counts.most_common(20)  # أكثر 20 كلمة\n",
        "\n",
        "# عرض النتائج\n",
        "for word, count in common_words:\n",
        "    print(f\"{word}: {count}\")\n"
      ],
      "metadata": {
        "colab": {
          "base_uri": "https://localhost:8080/"
        },
        "id": "QVfmT0ewyULt",
        "outputId": "85be7550-cadc-4fee-9858-668a540f0470"
      },
      "execution_count": null,
      "outputs": [
        {
          "output_type": "stream",
          "name": "stdout",
          "text": [
            "goodnotes: 42\n",
            "ipad: 36\n",
            "daily: 33\n",
            "notability: 22\n",
            "undated: 21\n",
            "journal: 16\n",
            "adhd: 15\n",
            "template: 10\n",
            "life: 10\n",
            "minimalist: 10\n",
            "android: 9\n",
            "ultimate: 9\n",
            "dated: 9\n",
            "calendar: 8\n",
            "bundle: 6\n",
            "girl: 6\n",
            "notion: 6\n",
            "all-in-one: 5\n",
            "all: 5\n",
            "one: 5\n"
          ]
        }
      ]
    },
    {
      "cell_type": "code",
      "source": [
        "words, counts = zip(*common_words)\n",
        "\n",
        "plt.figure(figsize=(12, 6))\n",
        "plt.bar(words, counts, color='orange')\n",
        "plt.xticks(rotation=45)\n",
        "plt.title(\"Top 20 Most Frequent Words in Product Titles\")\n",
        "plt.xlabel(\"Word\")\n",
        "plt.ylabel(\"Frequency\")\n",
        "plt.grid(axis='y')\n",
        "plt.show()\n"
      ],
      "metadata": {
        "id": "2sIzrYZpybWK",
        "outputId": "976f089d-549f-4cfb-eb7e-82f1e2c0584c",
        "colab": {
          "base_uri": "https://localhost:8080/",
          "height": 579
        }
      },
      "execution_count": null,
      "outputs": [
        {
          "output_type": "display_data",
          "data": {
            "text/plain": [
              "<Figure size 1200x600 with 1 Axes>"
            ],
            "image/png": "[encoded data removed]"
          },
          "metadata": {}
        }
      ]
    }
  ]
}